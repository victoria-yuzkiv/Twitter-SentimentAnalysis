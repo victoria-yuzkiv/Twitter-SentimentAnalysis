{
 "cells": [
  {
   "cell_type": "code",
   "execution_count": 53,
   "metadata": {},
   "outputs": [],
   "source": [
    "from sklearn.metrics import accuracy_score, classification_report, confusion_matrix\n",
    "from sklearn.feature_extraction.text import CountVectorizer, TfidfVectorizer\n",
    "from sklearn.linear_model import LogisticRegression\n",
    "from sklearn.model_selection import train_test_split\n",
    "from sklearn.pipeline import Pipeline\n",
    "\n",
    "import pandas as pd  \n",
    "import numpy as np\n",
    "import matplotlib.pyplot as plt\n",
    "\n",
    "from time import time\n",
    "\n",
    "%matplotlib inline"
   ]
  },
  {
   "cell_type": "code",
   "execution_count": 54,
   "metadata": {},
   "outputs": [
    {
     "name": "stderr",
     "output_type": "stream",
     "text": [
      "c:\\users\\victoriayuzkiv\\myenv\\lib\\site-packages\\numpy\\lib\\arraysetops.py:522: FutureWarning: elementwise comparison failed; returning scalar instead, but in the future will perform elementwise comparison\n",
      "  mask |= (ar1 == a)\n"
     ]
    },
    {
     "data": {
      "text/html": [
       "<div>\n",
       "<style scoped>\n",
       "    .dataframe tbody tr th:only-of-type {\n",
       "        vertical-align: middle;\n",
       "    }\n",
       "\n",
       "    .dataframe tbody tr th {\n",
       "        vertical-align: top;\n",
       "    }\n",
       "\n",
       "    .dataframe thead th {\n",
       "        text-align: right;\n",
       "    }\n",
       "</style>\n",
       "<table border=\"1\" class=\"dataframe\">\n",
       "  <thead>\n",
       "    <tr style=\"text-align: right;\">\n",
       "      <th></th>\n",
       "      <th>text</th>\n",
       "      <th>sentiment</th>\n",
       "    </tr>\n",
       "  </thead>\n",
       "  <tbody>\n",
       "    <tr>\n",
       "      <th>0</th>\n",
       "      <td>awww that bummer you shoulda got david carr of...</td>\n",
       "      <td>0</td>\n",
       "    </tr>\n",
       "    <tr>\n",
       "      <th>1</th>\n",
       "      <td>is upset that he can not update his facebook b...</td>\n",
       "      <td>0</td>\n",
       "    </tr>\n",
       "    <tr>\n",
       "      <th>2</th>\n",
       "      <td>dived many times for the ball managed to save ...</td>\n",
       "      <td>0</td>\n",
       "    </tr>\n",
       "    <tr>\n",
       "      <th>3</th>\n",
       "      <td>my whole body feels itchy and like its on fire</td>\n",
       "      <td>0</td>\n",
       "    </tr>\n",
       "    <tr>\n",
       "      <th>4</th>\n",
       "      <td>no it not behaving at all mad why am here beca...</td>\n",
       "      <td>0</td>\n",
       "    </tr>\n",
       "  </tbody>\n",
       "</table>\n",
       "</div>"
      ],
      "text/plain": [
       "                                                text  sentiment\n",
       "0  awww that bummer you shoulda got david carr of...          0\n",
       "1  is upset that he can not update his facebook b...          0\n",
       "2  dived many times for the ball managed to save ...          0\n",
       "3     my whole body feels itchy and like its on fire          0\n",
       "4  no it not behaving at all mad why am here beca...          0"
      ]
     },
     "execution_count": 54,
     "metadata": {},
     "output_type": "execute_result"
    }
   ],
   "source": [
    "df = pd.read_csv('cleaned_data.csv', index_col=0)\n",
    "df.head()"
   ]
  },
  {
   "cell_type": "code",
   "execution_count": 55,
   "metadata": {},
   "outputs": [
    {
     "name": "stdout",
     "output_type": "stream",
     "text": [
      "<class 'pandas.core.frame.DataFrame'>\n",
      "Int64Index: 1596522 entries, 0 to 1599999\n",
      "Data columns (total 2 columns):\n",
      "text         1596522 non-null object\n",
      "sentiment    1596522 non-null int64\n",
      "dtypes: int64(1), object(1)\n",
      "memory usage: 36.5+ MB\n"
     ]
    }
   ],
   "source": [
    "# df.reset_index(drop=True,inplace=True)\n",
    "df.info()"
   ]
  },
  {
   "cell_type": "markdown",
   "metadata": {},
   "source": [
    "# Splitting data"
   ]
  },
  {
   "cell_type": "code",
   "execution_count": 56,
   "metadata": {},
   "outputs": [],
   "source": [
    "x = df.text\n",
    "y = df.sentiment\n",
    "\n",
    "x_train, x_test, y_train, y_test = train_test_split(x, y, test_size=0.2)\n",
    "x_train, x_val, y_train, y_val = train_test_split(x_train, y_train, test_size=0.5)"
   ]
  },
  {
   "cell_type": "code",
   "execution_count": 57,
   "metadata": {},
   "outputs": [
    {
     "name": "stdout",
     "output_type": "stream",
     "text": [
      "Train size: 638608 \n",
      "Test size: 319305 \n",
      "Validation size: 638609 \n"
     ]
    }
   ],
   "source": [
    "print(\"Train size: {} \".format(len(x_train)))\n",
    "print(\"Test size: {} \".format(len(x_test)))\n",
    "print(\"Validation size: {} \".format(len(x_val)))"
   ]
  },
  {
   "cell_type": "markdown",
   "metadata": {},
   "source": [
    "# Feature extraction"
   ]
  },
  {
   "cell_type": "code",
   "execution_count": 64,
   "metadata": {},
   "outputs": [],
   "source": [
    "def accuracy_summary(pipeline, x_train, y_train, x_test, y_test):\n",
    "    sentiment_fit = pipeline.fit(x_train, y_train)\n",
    "    y_pred = sentiment_fit.predict(x_test)\n",
    "    accuracy = accuracy_score(y_test, y_pred)\n",
    "    print(\"Accuracy score: {0:.2f}\\n\".format(accuracy))\n",
    "    print(\"* * * \"*10)\n",
    "    return accuracy"
   ]
  },
  {
   "cell_type": "code",
   "execution_count": 65,
   "metadata": {},
   "outputs": [],
   "source": [
    "log_reg = LogisticRegression()\n",
    "features = np.arange(10000,100000,20000)\n",
    "\n",
    "def feature_accuracy_checker(vectorizer, n_features=features, stop_words=None, ngram_range=(1, 1), classifier=log_reg):\n",
    "    result = []\n",
    "    print(classifier)\n",
    "    for n in n_features:\n",
    "        vectorizer.set_params(stop_words=stop_words, max_features=n, ngram_range=ngram_range)\n",
    "        checker_pipeline = Pipeline([\n",
    "            ('vectorizer', vectorizer),\n",
    "            ('classifier', classifier)\n",
    "        ])\n",
    "        print(\"\\nValidation result for {} features\".format(n))\n",
    "        nfeature_accuracy = accuracy_summary(checker_pipeline, x_train, y_train, x_val, y_val)\n",
    "        result.append((n,nfeature_accuracy))\n",
    "    return result"
   ]
  },
  {
   "cell_type": "markdown",
   "metadata": {},
   "source": [
    "### Count Vectorizer"
   ]
  },
  {
   "cell_type": "code",
   "execution_count": 61,
   "metadata": {},
   "outputs": [],
   "source": [
    "cvec = CountVectorizer()"
   ]
  },
  {
   "cell_type": "code",
   "execution_count": 66,
   "metadata": {},
   "outputs": [
    {
     "name": "stdout",
     "output_type": "stream",
     "text": [
      "LogisticRegression(C=1.0, class_weight=None, dual=False, fit_intercept=True,\n",
      "          intercept_scaling=1, max_iter=100, multi_class='warn',\n",
      "          n_jobs=None, penalty='l2', random_state=None, solver='warn',\n",
      "          tol=0.0001, verbose=0, warm_start=False)\n",
      "\n",
      "\n",
      "Validation result for 10000 features\n",
      "Accuracy score: 0.79\n",
      "\n",
      "* * * * * * * * * * * * * * * * * * * * * * * * * * * * * * \n",
      "Validation result for 30000 features\n",
      "Accuracy score: 0.79\n",
      "\n",
      "* * * * * * * * * * * * * * * * * * * * * * * * * * * * * * \n",
      "Validation result for 50000 features\n",
      "Accuracy score: 0.79\n",
      "\n",
      "* * * * * * * * * * * * * * * * * * * * * * * * * * * * * * \n",
      "Validation result for 70000 features\n",
      "Accuracy score: 0.79\n",
      "\n",
      "* * * * * * * * * * * * * * * * * * * * * * * * * * * * * * \n",
      "Validation result for 90000 features\n",
      "Accuracy score: 0.79\n",
      "\n",
      "* * * * * * * * * * * * * * * * * * * * * * * * * * * * * * \n",
      "Wall time: 6min 17s\n"
     ]
    }
   ],
   "source": [
    "%%time\n",
    "#Unigram for Count Vectorizer\n",
    "feature_result_ug = feature_accuracy_checker(cvec)"
   ]
  },
  {
   "cell_type": "code",
   "execution_count": 68,
   "metadata": {},
   "outputs": [
    {
     "name": "stdout",
     "output_type": "stream",
     "text": [
      "LogisticRegression(C=1.0, class_weight=None, dual=False, fit_intercept=True,\n",
      "          intercept_scaling=1, max_iter=100, multi_class='warn',\n",
      "          n_jobs=None, penalty='l2', random_state=None, solver='warn',\n",
      "          tol=0.0001, verbose=0, warm_start=False)\n",
      "\n",
      "\n",
      "Validation result for 10000 features\n",
      "Accuracy score: 0.80\n",
      "\n",
      "* * * * * * * * * * * * * * * * * * * * * * * * * * * * * * \n",
      "Validation result for 30000 features\n",
      "Accuracy score: 0.81\n",
      "\n",
      "* * * * * * * * * * * * * * * * * * * * * * * * * * * * * * \n",
      "Validation result for 50000 features\n",
      "Accuracy score: 0.81\n",
      "\n",
      "* * * * * * * * * * * * * * * * * * * * * * * * * * * * * * \n",
      "Validation result for 70000 features\n",
      "Accuracy score: 0.81\n",
      "\n",
      "* * * * * * * * * * * * * * * * * * * * * * * * * * * * * * \n",
      "Validation result for 90000 features\n",
      "Accuracy score: 0.81\n",
      "\n",
      "* * * * * * * * * * * * * * * * * * * * * * * * * * * * * * \n",
      "Wall time: 12min 51s\n"
     ]
    }
   ],
   "source": [
    "%%time\n",
    "#Bigram for Count Vectorizer\n",
    "feature_result_bg = feature_accuracy_checker(cvec, ngram_range=(1, 2))"
   ]
  },
  {
   "cell_type": "code",
   "execution_count": 69,
   "metadata": {},
   "outputs": [
    {
     "name": "stdout",
     "output_type": "stream",
     "text": [
      "LogisticRegression(C=1.0, class_weight=None, dual=False, fit_intercept=True,\n",
      "          intercept_scaling=1, max_iter=100, multi_class='warn',\n",
      "          n_jobs=None, penalty='l2', random_state=None, solver='warn',\n",
      "          tol=0.0001, verbose=0, warm_start=False)\n",
      "\n",
      "\n",
      "Validation result for 10000 features\n",
      "Accuracy score: 0.80\n",
      "\n",
      "* * * * * * * * * * * * * * * * * * * * * * * * * * * * * * \n",
      "Validation result for 30000 features\n",
      "Accuracy score: 0.81\n",
      "\n",
      "* * * * * * * * * * * * * * * * * * * * * * * * * * * * * * \n",
      "Validation result for 50000 features\n",
      "Accuracy score: 0.81\n",
      "\n",
      "* * * * * * * * * * * * * * * * * * * * * * * * * * * * * * \n",
      "Validation result for 70000 features\n",
      "Accuracy score: 0.81\n",
      "\n",
      "* * * * * * * * * * * * * * * * * * * * * * * * * * * * * * \n",
      "Validation result for 90000 features\n",
      "Accuracy score: 0.81\n",
      "\n",
      "* * * * * * * * * * * * * * * * * * * * * * * * * * * * * * \n",
      "Wall time: 22min 11s\n"
     ]
    }
   ],
   "source": [
    "%%time\n",
    "#Trigram for Count Vectorizer\n",
    "feature_result_tg = feature_accuracy_checker(cvec,ngram_range=(1, 3))"
   ]
  },
  {
   "cell_type": "markdown",
   "metadata": {},
   "source": [
    "### TFIDF Vectorizer"
   ]
  },
  {
   "cell_type": "code",
   "execution_count": 70,
   "metadata": {},
   "outputs": [],
   "source": [
    "tvec = TfidfVectorizer()"
   ]
  },
  {
   "cell_type": "code",
   "execution_count": 71,
   "metadata": {},
   "outputs": [
    {
     "name": "stdout",
     "output_type": "stream",
     "text": [
      "LogisticRegression(C=1.0, class_weight=None, dual=False, fit_intercept=True,\n",
      "          intercept_scaling=1, max_iter=100, multi_class='warn',\n",
      "          n_jobs=None, penalty='l2', random_state=None, solver='warn',\n",
      "          tol=0.0001, verbose=0, warm_start=False)\n",
      "\n",
      "\n",
      "Validation result for 10000 features\n",
      "Accuracy score: 0.80\n",
      "\n",
      "* * * * * * * * * * * * * * * * * * * * * * * * * * * * * * \n",
      "Validation result for 30000 features\n",
      "Accuracy score: 0.80\n",
      "\n",
      "* * * * * * * * * * * * * * * * * * * * * * * * * * * * * * \n",
      "Validation result for 50000 features\n",
      "Accuracy score: 0.80\n",
      "\n",
      "* * * * * * * * * * * * * * * * * * * * * * * * * * * * * * \n",
      "Validation result for 70000 features\n",
      "Accuracy score: 0.80\n",
      "\n",
      "* * * * * * * * * * * * * * * * * * * * * * * * * * * * * * \n",
      "Validation result for 90000 features\n",
      "Accuracy score: 0.80\n",
      "\n",
      "* * * * * * * * * * * * * * * * * * * * * * * * * * * * * * \n",
      "Wall time: 3min 32s\n"
     ]
    }
   ],
   "source": [
    "%%time\n",
    "#Unigram for TFIDF Vectorizer\n",
    "feature_result_ugt = feature_accuracy_checker(tvec)"
   ]
  },
  {
   "cell_type": "code",
   "execution_count": 72,
   "metadata": {},
   "outputs": [
    {
     "name": "stdout",
     "output_type": "stream",
     "text": [
      "LogisticRegression(C=1.0, class_weight=None, dual=False, fit_intercept=True,\n",
      "          intercept_scaling=1, max_iter=100, multi_class='warn',\n",
      "          n_jobs=None, penalty='l2', random_state=None, solver='warn',\n",
      "          tol=0.0001, verbose=0, warm_start=False)\n",
      "\n",
      "\n",
      "Validation result for 10000 features\n",
      "Accuracy score: 0.81\n",
      "\n",
      "* * * * * * * * * * * * * * * * * * * * * * * * * * * * * * \n",
      "Validation result for 30000 features\n",
      "Accuracy score: 0.81\n",
      "\n",
      "* * * * * * * * * * * * * * * * * * * * * * * * * * * * * * \n",
      "Validation result for 50000 features\n",
      "Accuracy score: 0.82\n",
      "\n",
      "* * * * * * * * * * * * * * * * * * * * * * * * * * * * * * \n",
      "Validation result for 70000 features\n",
      "Accuracy score: 0.82\n",
      "\n",
      "* * * * * * * * * * * * * * * * * * * * * * * * * * * * * * \n",
      "Validation result for 90000 features\n",
      "Accuracy score: 0.82\n",
      "\n",
      "* * * * * * * * * * * * * * * * * * * * * * * * * * * * * * \n",
      "Wall time: 7min 11s\n"
     ]
    }
   ],
   "source": [
    "%%time\n",
    "#Bigram for TFIDF Vectorizer\n",
    "feature_result_bgt = feature_accuracy_checker(tvec, ngram_range=(1, 2))"
   ]
  },
  {
   "cell_type": "code",
   "execution_count": 73,
   "metadata": {},
   "outputs": [
    {
     "name": "stdout",
     "output_type": "stream",
     "text": [
      "LogisticRegression(C=1.0, class_weight=None, dual=False, fit_intercept=True,\n",
      "          intercept_scaling=1, max_iter=100, multi_class='warn',\n",
      "          n_jobs=None, penalty='l2', random_state=None, solver='warn',\n",
      "          tol=0.0001, verbose=0, warm_start=False)\n",
      "\n",
      "\n",
      "Validation result for 10000 features\n",
      "Accuracy score: 0.80\n",
      "\n",
      "* * * * * * * * * * * * * * * * * * * * * * * * * * * * * * \n",
      "Validation result for 30000 features\n",
      "Accuracy score: 0.81\n",
      "\n",
      "* * * * * * * * * * * * * * * * * * * * * * * * * * * * * * \n",
      "Validation result for 50000 features\n",
      "Accuracy score: 0.82\n",
      "\n",
      "* * * * * * * * * * * * * * * * * * * * * * * * * * * * * * \n",
      "Validation result for 70000 features\n",
      "Accuracy score: 0.82\n",
      "\n",
      "* * * * * * * * * * * * * * * * * * * * * * * * * * * * * * \n",
      "Validation result for 90000 features\n",
      "Accuracy score: 0.82\n",
      "\n",
      "* * * * * * * * * * * * * * * * * * * * * * * * * * * * * * \n",
      "Wall time: 9min 40s\n"
     ]
    }
   ],
   "source": [
    "%%time\n",
    "#Trigram for TFIDF Vectorizer\n",
    "feature_result_tgt = feature_accuracy_checker(tvec,ngram_range=(1, 3))"
   ]
  },
  {
   "cell_type": "markdown",
   "metadata": {},
   "source": [
    "### Compare results"
   ]
  },
  {
   "cell_type": "code",
   "execution_count": 76,
   "metadata": {},
   "outputs": [
    {
     "data": {
      "text/plain": [
       "<matplotlib.legend.Legend at 0x139e1527320>"
      ]
     },
     "execution_count": 76,
     "metadata": {},
     "output_type": "execute_result"
    },
    {
     "data": {
      "image/png": "[encoded data removed]",
      "text/plain": [
       "<Figure size 576x432 with 1 Axes>"
      ]
     },
     "metadata": {
      "needs_background": "light"
     },
     "output_type": "display_data"
    }
   ],
   "source": [
    "nfeatures_plot_tgt = pd.DataFrame(feature_result_tgt,columns=['nfeatures','validation_accuracy'])\n",
    "nfeatures_plot_bgt = pd.DataFrame(feature_result_bgt,columns=['nfeatures','validation_accuracy'])\n",
    "nfeatures_plot_ugt = pd.DataFrame(feature_result_ugt,columns=['nfeatures','validation_accuracy'])\n",
    "\n",
    "nfeatures_plot_tg = pd.DataFrame(feature_result_tg,columns=['nfeatures','validation_accuracy'])\n",
    "nfeatures_plot_bg = pd.DataFrame(feature_result_bg,columns=['nfeatures','validation_accuracy'])\n",
    "nfeatures_plot_ug = pd.DataFrame(feature_result_ug,columns=['nfeatures','validation_accuracy'])\n",
    "\n",
    "\n",
    "plt.figure(figsize=(8,6))\n",
    "plt.plot(nfeatures_plot_tgt.nfeatures, nfeatures_plot_tgt.validation_accuracy,label='trigram tfidf vectorizer',color='royalblue')\n",
    "plt.plot(nfeatures_plot_tg.nfeatures, nfeatures_plot_tg.validation_accuracy,label='trigram count vectorizer',linestyle=':', color='royalblue')\n",
    "plt.plot(nfeatures_plot_bgt.nfeatures, nfeatures_plot_bgt.validation_accuracy,label='bigram tfidf vectorizer',color='orangered')\n",
    "plt.plot(nfeatures_plot_bg.nfeatures, nfeatures_plot_bg.validation_accuracy,label='bigram count vectorizer',linestyle=':',color='orangered')\n",
    "plt.plot(nfeatures_plot_ugt.nfeatures, nfeatures_plot_ugt.validation_accuracy, label='unigram tfidf vectorizer',color='gold')\n",
    "plt.plot(nfeatures_plot_ug.nfeatures, nfeatures_plot_ug.validation_accuracy, label='unigram count vectorizer',linestyle=':',color='gold')\n",
    "plt.title(\"N-gram(1~3) test result : Accuracy\")\n",
    "plt.xlabel(\"Number of features\")\n",
    "plt.ylabel(\"Validation set accuracy\")\n",
    "plt.legend()"
   ]
  },
  {
   "cell_type": "markdown",
   "metadata": {},
   "source": [
    "Trigram for TFIDF Vectorizer showed the best result, so I'll use it to train the model that predicts teets polarity."
   ]
  }
 ],
 "metadata": {
  "kernelspec": {
   "display_name": "Python 3",
   "language": "python",
   "name": "python3"
  },
  "language_info": {
   "codemirror_mode": {
    "name": "ipython",
    "version": 3
   },
   "file_extension": ".py",
   "mimetype": "text/x-python",
   "name": "python",
   "nbconvert_exporter": "python",
   "pygments_lexer": "ipython3",
   "version": "3.6.6"
  }
 },
 "nbformat": 4,
 "nbformat_minor": 2
}
