{
 "cells": [
  {
   "cell_type": "markdown",
   "metadata": {},
   "source": [
    "# Creating a class for tweets pre-processing"
   ]
  },
  {
   "cell_type": "code",
   "execution_count": null,
   "metadata": {},
   "outputs": [],
   "source": [
    "class PreprocessTweet:\n",
    "\n",
    "    def __init__(self):\n",
    "        self.name = 'PreprocessTweet'\n",
    "\n",
    "    def decode_HTML(self, tweet):\n",
    "        pass\n",
    "    \n",
    "    def remove_mentions(self, tweet):\n",
    "        pass\n",
    "    \n",
    "    def remove_links(self, tweet):\n",
    "        pass\n",
    "    \n",
    "    def remove_BOM(self, tweet):\n",
    "        pass\n",
    "    \n",
    "    def remove_nonletter_characters(self, tweet):\n",
    "        # imcluding hashtag\n",
    "        pass\n",
    "    \n",
    "    def to_lower(self, tweet):\n",
    "        pass\n",
    "    \n",
    "    def hadle_negations(self, tweet):\n",
    "        pass\n",
    "    \n",
    "    def tokenize(self, tweet):\n",
    "        pass"
   ]
  },
  {
   "cell_type": "code",
   "execution_count": null,
   "metadata": {},
   "outputs": [],
   "source": []
  }
 ],
 "metadata": {
  "kernelspec": {
   "display_name": "Python 3",
   "language": "python",
   "name": "python3"
  },
  "language_info": {
   "codemirror_mode": {
    "name": "ipython",
    "version": 3
   },
   "file_extension": ".py",
   "mimetype": "text/x-python",
   "name": "python",
   "nbconvert_exporter": "python",
   "pygments_lexer": "ipython3",
   "version": "3.6.6"
  }
 },
 "nbformat": 4,
 "nbformat_minor": 2
}
