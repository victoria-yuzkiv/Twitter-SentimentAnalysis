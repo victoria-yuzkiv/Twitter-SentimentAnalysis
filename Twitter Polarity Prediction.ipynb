{
 "cells": [
  {
   "cell_type": "code",
   "execution_count": 1,
   "metadata": {},
   "outputs": [],
   "source": [
    "from sklearn.metrics import accuracy_score, classification_report, confusion_matrix\n",
    "from sklearn.feature_extraction.text import CountVectorizer, TfidfVectorizer\n",
    "from sklearn.linear_model import LogisticRegression\n",
    "from sklearn.model_selection import train_test_split\n",
    "from sklearn.pipeline import Pipeline\n",
    "\n",
    "import pandas as pd  \n",
    "import numpy as np"
   ]
  },
  {
   "cell_type": "code",
   "execution_count": 2,
   "metadata": {},
   "outputs": [
    {
     "name": "stderr",
     "output_type": "stream",
     "text": [
      "c:\\users\\victoriayuzkiv\\myenv\\lib\\site-packages\\numpy\\lib\\arraysetops.py:522: FutureWarning: elementwise comparison failed; returning scalar instead, but in the future will perform elementwise comparison\n",
      "  mask |= (ar1 == a)\n"
     ]
    },
    {
     "data": {
      "text/html": [
       "<div>\n",
       "<style scoped>\n",
       "    .dataframe tbody tr th:only-of-type {\n",
       "        vertical-align: middle;\n",
       "    }\n",
       "\n",
       "    .dataframe tbody tr th {\n",
       "        vertical-align: top;\n",
       "    }\n",
       "\n",
       "    .dataframe thead th {\n",
       "        text-align: right;\n",
       "    }\n",
       "</style>\n",
       "<table border=\"1\" class=\"dataframe\">\n",
       "  <thead>\n",
       "    <tr style=\"text-align: right;\">\n",
       "      <th></th>\n",
       "      <th>text</th>\n",
       "      <th>sentiment</th>\n",
       "    </tr>\n",
       "  </thead>\n",
       "  <tbody>\n",
       "    <tr>\n",
       "      <th>0</th>\n",
       "      <td>awww that bummer you shoulda got david carr of...</td>\n",
       "      <td>0</td>\n",
       "    </tr>\n",
       "    <tr>\n",
       "      <th>1</th>\n",
       "      <td>is upset that he can not update his facebook b...</td>\n",
       "      <td>0</td>\n",
       "    </tr>\n",
       "    <tr>\n",
       "      <th>2</th>\n",
       "      <td>dived many times for the ball managed to save ...</td>\n",
       "      <td>0</td>\n",
       "    </tr>\n",
       "    <tr>\n",
       "      <th>3</th>\n",
       "      <td>my whole body feels itchy and like its on fire</td>\n",
       "      <td>0</td>\n",
       "    </tr>\n",
       "    <tr>\n",
       "      <th>4</th>\n",
       "      <td>no it not behaving at all mad why am here beca...</td>\n",
       "      <td>0</td>\n",
       "    </tr>\n",
       "  </tbody>\n",
       "</table>\n",
       "</div>"
      ],
      "text/plain": [
       "                                                text  sentiment\n",
       "0  awww that bummer you shoulda got david carr of...          0\n",
       "1  is upset that he can not update his facebook b...          0\n",
       "2  dived many times for the ball managed to save ...          0\n",
       "3     my whole body feels itchy and like its on fire          0\n",
       "4  no it not behaving at all mad why am here beca...          0"
      ]
     },
     "execution_count": 2,
     "metadata": {},
     "output_type": "execute_result"
    }
   ],
   "source": [
    "df = pd.read_csv('cleaned_data.csv', index_col=0)\n",
    "df.head()"
   ]
  },
  {
   "cell_type": "code",
   "execution_count": 3,
   "metadata": {},
   "outputs": [
    {
     "name": "stdout",
     "output_type": "stream",
     "text": [
      "<class 'pandas.core.frame.DataFrame'>\n",
      "Int64Index: 1596522 entries, 0 to 1599999\n",
      "Data columns (total 2 columns):\n",
      "text         1596522 non-null object\n",
      "sentiment    1596522 non-null int64\n",
      "dtypes: int64(1), object(1)\n",
      "memory usage: 36.5+ MB\n"
     ]
    }
   ],
   "source": [
    "df.info()"
   ]
  },
  {
   "cell_type": "markdown",
   "metadata": {},
   "source": [
    "# Training Logistic Regression and predicting tweets polarity"
   ]
  },
  {
   "cell_type": "code",
   "execution_count": 4,
   "metadata": {},
   "outputs": [],
   "source": [
    "x = df.text\n",
    "y = df.sentiment\n",
    "\n",
    "x_train, x_test, y_train, y_test = train_test_split(x, y, test_size=0.2)\n",
    "x_train, x_val, y_train, y_val = train_test_split(x_train, y_train, test_size=0.5)"
   ]
  },
  {
   "cell_type": "code",
   "execution_count": 5,
   "metadata": {},
   "outputs": [
    {
     "name": "stderr",
     "output_type": "stream",
     "text": [
      "c:\\users\\victoriayuzkiv\\myenv\\lib\\site-packages\\sklearn\\linear_model\\logistic.py:432: FutureWarning: Default solver will be changed to 'lbfgs' in 0.22. Specify a solver to silence this warning.\n",
      "  FutureWarning)\n"
     ]
    },
    {
     "name": "stdout",
     "output_type": "stream",
     "text": [
      "Accuracy score: 0.82\n",
      "\n"
     ]
    }
   ],
   "source": [
    "log_reg = LogisticRegression()\n",
    "vectorizer = TfidfVectorizer()\n",
    "\n",
    "vectorizer.set_params(stop_words=None, max_features=100000, ngram_range=(1, 3))\n",
    "pipeline = Pipeline([\n",
    "    ('vectorizer', vectorizer),\n",
    "    ('classifier', log_reg)\n",
    "])\n",
    "sentiment_fit = pipeline.fit(x_train, y_train)\n",
    "y_pred = sentiment_fit.predict(x_test)\n",
    "accuracy = accuracy_score(y_test, y_pred)\n",
    "print(\"Accuracy score: {0:.2f}\\n\".format(accuracy))"
   ]
  },
  {
   "cell_type": "code",
   "execution_count": 47,
   "metadata": {},
   "outputs": [
    {
     "data": {
      "text/plain": [
       "array([1, 0, 0, 1], dtype=int64)"
      ]
     },
     "execution_count": 47,
     "metadata": {},
     "output_type": "execute_result"
    }
   ],
   "source": [
    "# testing prediction\n",
    "\n",
    "tweets = ['i love you', 'hate this day', 'i can not do this', 'this is the best chololate cake']\n",
    "predict = sentiment_fit.predict(tweets)\n",
    "predict"
   ]
  },
  {
   "cell_type": "markdown",
   "metadata": {},
   "source": [
    "## Tweets preparing"
   ]
  },
  {
   "cell_type": "code",
   "execution_count": 7,
   "metadata": {},
   "outputs": [
    {
     "data": {
      "text/html": [
       "<div>\n",
       "<style scoped>\n",
       "    .dataframe tbody tr th:only-of-type {\n",
       "        vertical-align: middle;\n",
       "    }\n",
       "\n",
       "    .dataframe tbody tr th {\n",
       "        vertical-align: top;\n",
       "    }\n",
       "\n",
       "    .dataframe thead th {\n",
       "        text-align: right;\n",
       "    }\n",
       "</style>\n",
       "<table border=\"1\" class=\"dataframe\">\n",
       "  <thead>\n",
       "    <tr style=\"text-align: right;\">\n",
       "      <th></th>\n",
       "      <th>tweet</th>\n",
       "      <th>coordinates</th>\n",
       "      <th>location</th>\n",
       "      <th>language</th>\n",
       "    </tr>\n",
       "  </thead>\n",
       "  <tbody>\n",
       "    <tr>\n",
       "      <th>0</th>\n",
       "      <td>Canada’s @PaulMGrod, President of @UWCongress,...</td>\n",
       "      <td>NaN</td>\n",
       "      <td>Ukraine</td>\n",
       "      <td>en</td>\n",
       "    </tr>\n",
       "    <tr>\n",
       "      <th>1</th>\n",
       "      <td>RT @expatua: Epifaniy: Russian Orthodox Church...</td>\n",
       "      <td>NaN</td>\n",
       "      <td>Kyiv, Ukraine</td>\n",
       "      <td>en</td>\n",
       "    </tr>\n",
       "    <tr>\n",
       "      <th>2</th>\n",
       "      <td>RT @Reuters: Ecumenical Patriarch signs decree...</td>\n",
       "      <td>NaN</td>\n",
       "      <td>Київ</td>\n",
       "      <td>en</td>\n",
       "    </tr>\n",
       "    <tr>\n",
       "      <th>3</th>\n",
       "      <td>RT @TarasKuzio: Putin’s defeat as Ukraine rece...</td>\n",
       "      <td>NaN</td>\n",
       "      <td>愛知 尾張旭市</td>\n",
       "      <td>tr</td>\n",
       "    </tr>\n",
       "    <tr>\n",
       "      <th>4</th>\n",
       "      <td>Ukraine: new Orthodox church gains independenc...</td>\n",
       "      <td>NaN</td>\n",
       "      <td>Dublin, Ireland.</td>\n",
       "      <td>en</td>\n",
       "    </tr>\n",
       "  </tbody>\n",
       "</table>\n",
       "</div>"
      ],
      "text/plain": [
       "                                               tweet coordinates  \\\n",
       "0  Canada’s @PaulMGrod, President of @UWCongress,...         NaN   \n",
       "1  RT @expatua: Epifaniy: Russian Orthodox Church...         NaN   \n",
       "2  RT @Reuters: Ecumenical Patriarch signs decree...         NaN   \n",
       "3  RT @TarasKuzio: Putin’s defeat as Ukraine rece...         NaN   \n",
       "4  Ukraine: new Orthodox church gains independenc...         NaN   \n",
       "\n",
       "           location language  \n",
       "0           Ukraine       en  \n",
       "1     Kyiv, Ukraine       en  \n",
       "2              Київ       en  \n",
       "3           愛知 尾張旭市       tr  \n",
       "4  Dublin, Ireland.       en  "
      ]
     },
     "execution_count": 7,
     "metadata": {},
     "output_type": "execute_result"
    }
   ],
   "source": [
    "tweets_df = pd.read_csv('received_tweets.csv', index_col=0)\n",
    "tweets_df.head()"
   ]
  },
  {
   "cell_type": "code",
   "execution_count": 14,
   "metadata": {},
   "outputs": [],
   "source": [
    "from tweet_preprocessing import PreprocessTweet\n",
    "\n",
    "def clean_tweet(tweet):\n",
    "    t = PreprocessTweet()\n",
    "    bs_tweet = t.decode_HTML(tweet)\n",
    "    bom_tweet = t.remove_BOM(bs_tweet)\n",
    "    tweet = t.remove_mentions(bom_tweet)\n",
    "    tweet = t.remove_links(tweet)\n",
    "    tweet_lowercase = t.to_lower(tweet)\n",
    "    without_negations = t.hadle_negations(tweet_lowercase)\n",
    "    tweet = t.remove_nonletter_characters(without_negations)\n",
    "    return t.tokenize(tweet)"
   ]
  },
  {
   "cell_type": "code",
   "execution_count": 13,
   "metadata": {},
   "outputs": [
    {
     "data": {
      "text/plain": [
       "'ukraine orthodox church to be granted independence from russian church'"
      ]
     },
     "execution_count": 13,
     "metadata": {},
     "output_type": "execute_result"
    }
   ],
   "source": [
    "#testing clean_tweet function\n",
    "\n",
    "clean_tweet('@BBCWorld: Ukraine Orthodox Church to be granted independence 77 from Russian Church https://t.co/1qIw8PW7ic')"
   ]
  },
  {
   "cell_type": "code",
   "execution_count": 27,
   "metadata": {},
   "outputs": [
    {
     "data": {
      "text/html": [
       "<div>\n",
       "<style scoped>\n",
       "    .dataframe tbody tr th:only-of-type {\n",
       "        vertical-align: middle;\n",
       "    }\n",
       "\n",
       "    .dataframe tbody tr th {\n",
       "        vertical-align: top;\n",
       "    }\n",
       "\n",
       "    .dataframe thead th {\n",
       "        text-align: right;\n",
       "    }\n",
       "</style>\n",
       "<table border=\"1\" class=\"dataframe\">\n",
       "  <thead>\n",
       "    <tr style=\"text-align: right;\">\n",
       "      <th></th>\n",
       "      <th>tweet</th>\n",
       "      <th>coordinates</th>\n",
       "      <th>location</th>\n",
       "      <th>language</th>\n",
       "    </tr>\n",
       "  </thead>\n",
       "  <tbody>\n",
       "    <tr>\n",
       "      <th>0</th>\n",
       "      <td>Canada’s @PaulMGrod, President of @UWCongress,...</td>\n",
       "      <td>NaN</td>\n",
       "      <td>Ukraine</td>\n",
       "      <td>en</td>\n",
       "    </tr>\n",
       "    <tr>\n",
       "      <th>1</th>\n",
       "      <td>RT @expatua: Epifaniy: Russian Orthodox Church...</td>\n",
       "      <td>NaN</td>\n",
       "      <td>Kyiv, Ukraine</td>\n",
       "      <td>en</td>\n",
       "    </tr>\n",
       "    <tr>\n",
       "      <th>2</th>\n",
       "      <td>RT @Reuters: Ecumenical Patriarch signs decree...</td>\n",
       "      <td>NaN</td>\n",
       "      <td>Київ</td>\n",
       "      <td>en</td>\n",
       "    </tr>\n",
       "    <tr>\n",
       "      <th>4</th>\n",
       "      <td>Ukraine: new Orthodox church gains independenc...</td>\n",
       "      <td>NaN</td>\n",
       "      <td>Dublin, Ireland.</td>\n",
       "      <td>en</td>\n",
       "    </tr>\n",
       "    <tr>\n",
       "      <th>5</th>\n",
       "      <td>RT @BBCWorld: Ukraine Orthodox Church to be gr...</td>\n",
       "      <td>NaN</td>\n",
       "      <td>Brooklyn, NY</td>\n",
       "      <td>en</td>\n",
       "    </tr>\n",
       "    <tr>\n",
       "      <th>6</th>\n",
       "      <td>RT @AP: The Ecumenical Patriarch of Constantin...</td>\n",
       "      <td>NaN</td>\n",
       "      <td>Buffalo, New York</td>\n",
       "      <td>en</td>\n",
       "    </tr>\n",
       "    <tr>\n",
       "      <th>7</th>\n",
       "      <td>Tomos signing ceremony in Constantinople ends ...</td>\n",
       "      <td>NaN</td>\n",
       "      <td>Richmond Hill, Ontario, Canada</td>\n",
       "      <td>en</td>\n",
       "    </tr>\n",
       "    <tr>\n",
       "      <th>10</th>\n",
       "      <td>RT @BungeeWedgie: #Ukraine post office celebra...</td>\n",
       "      <td>NaN</td>\n",
       "      <td>12358 Fibonacci Cir.</td>\n",
       "      <td>en</td>\n",
       "    </tr>\n",
       "    <tr>\n",
       "      <th>11</th>\n",
       "      <td>RT @DECLEX: 2/3rd point had me in tears. 😂 htt...</td>\n",
       "      <td>NaN</td>\n",
       "      <td>Lokoja, Nigeria</td>\n",
       "      <td>en</td>\n",
       "    </tr>\n",
       "    <tr>\n",
       "      <th>13</th>\n",
       "      <td>RT @MrDtAFC: @BBCMOTD BATE Borisov v Arsenal -...</td>\n",
       "      <td>NaN</td>\n",
       "      <td>Uswazi</td>\n",
       "      <td>en</td>\n",
       "    </tr>\n",
       "  </tbody>\n",
       "</table>\n",
       "</div>"
      ],
      "text/plain": [
       "                                                tweet coordinates  \\\n",
       "0   Canada’s @PaulMGrod, President of @UWCongress,...         NaN   \n",
       "1   RT @expatua: Epifaniy: Russian Orthodox Church...         NaN   \n",
       "2   RT @Reuters: Ecumenical Patriarch signs decree...         NaN   \n",
       "4   Ukraine: new Orthodox church gains independenc...         NaN   \n",
       "5   RT @BBCWorld: Ukraine Orthodox Church to be gr...         NaN   \n",
       "6   RT @AP: The Ecumenical Patriarch of Constantin...         NaN   \n",
       "7   Tomos signing ceremony in Constantinople ends ...         NaN   \n",
       "10  RT @BungeeWedgie: #Ukraine post office celebra...         NaN   \n",
       "11  RT @DECLEX: 2/3rd point had me in tears. 😂 htt...         NaN   \n",
       "13  RT @MrDtAFC: @BBCMOTD BATE Borisov v Arsenal -...         NaN   \n",
       "\n",
       "                          location language  \n",
       "0                          Ukraine       en  \n",
       "1                    Kyiv, Ukraine       en  \n",
       "2                             Київ       en  \n",
       "4                 Dublin, Ireland.       en  \n",
       "5                     Brooklyn, NY       en  \n",
       "6                Buffalo, New York       en  \n",
       "7   Richmond Hill, Ontario, Canada       en  \n",
       "10           12358 Fibonacci Cir.        en  \n",
       "11                 Lokoja, Nigeria       en  \n",
       "13                          Uswazi       en  "
      ]
     },
     "execution_count": 27,
     "metadata": {},
     "output_type": "execute_result"
    }
   ],
   "source": [
    "en_tweets = tweets_df[tweets_df.language=='en']\n",
    "en_tweets.head(10)"
   ]
  },
  {
   "cell_type": "code",
   "execution_count": 33,
   "metadata": {},
   "outputs": [
    {
     "name": "stderr",
     "output_type": "stream",
     "text": [
      "c:\\users\\victoriayuzkiv\\myenv\\lib\\site-packages\\bs4\\__init__.py:272: UserWarning: \"b'.'\" looks like a filename, not markup. You should probably open this file and pass the filehandle into Beautiful Soup.\n",
      "  ' Beautiful Soup.' % markup)\n",
      "c:\\users\\victoriayuzkiv\\myenv\\lib\\site-packages\\ipykernel_launcher.py:1: SettingWithCopyWarning: \n",
      "A value is trying to be set on a copy of a slice from a DataFrame.\n",
      "Try using .loc[row_indexer,col_indexer] = value instead\n",
      "\n",
      "See the caveats in the documentation: http://pandas.pydata.org/pandas-docs/stable/indexing.html#indexing-view-versus-copy\n",
      "  \"\"\"Entry point for launching an IPython kernel.\n"
     ]
    }
   ],
   "source": [
    "en_tweets['cleaned_tweet'] = en_tweets['tweet'].apply(clean_tweet)"
   ]
  },
  {
   "cell_type": "code",
   "execution_count": 36,
   "metadata": {},
   "outputs": [
    {
     "data": {
      "text/plain": [
       "array([1, 1, 1, 1, 1, 1, 1, 1, 0, 0, 1, 1, 1, 0, 1, 1, 1, 1, 1, 1, 1, 1,\n",
       "       1, 1, 0, 1, 1, 1, 1, 0, 0, 0, 1, 1, 1, 1, 1, 1, 1, 1, 1, 1, 1, 1,\n",
       "       1, 0, 1, 1, 1, 1, 1, 1, 1, 0, 1, 1, 1, 0, 1, 1, 1, 1, 1, 1, 1, 1,\n",
       "       1, 1, 1, 1, 1, 1, 1, 1, 1, 1, 1, 1, 1, 1, 1, 1, 1, 1, 0, 1, 1, 1,\n",
       "       1, 1, 1, 1, 1, 1, 1, 1, 0, 1, 1, 1, 1, 1, 1, 1, 1, 0, 0, 1, 1, 1,\n",
       "       1, 0, 1, 1, 1, 1, 1, 1, 1, 1, 1, 1, 1, 1, 1, 1, 1, 1, 1, 1, 1, 0,\n",
       "       1, 1, 1, 1, 1, 1, 1, 1, 1, 1, 1, 1, 1, 1, 1, 1, 1, 1, 1, 1, 1, 0,\n",
       "       1, 0, 1, 0, 0, 1, 1, 0, 1, 1], dtype=int64)"
      ]
     },
     "execution_count": 36,
     "metadata": {},
     "output_type": "execute_result"
    }
   ],
   "source": [
    "predictions = sentiment_fit.predict(en_tweets.cleaned_tweet)\n",
    "predictions"
   ]
  },
  {
   "cell_type": "code",
   "execution_count": 38,
   "metadata": {},
   "outputs": [
    {
     "name": "stderr",
     "output_type": "stream",
     "text": [
      "c:\\users\\victoriayuzkiv\\myenv\\lib\\site-packages\\ipykernel_launcher.py:1: SettingWithCopyWarning: \n",
      "A value is trying to be set on a copy of a slice from a DataFrame.\n",
      "Try using .loc[row_indexer,col_indexer] = value instead\n",
      "\n",
      "See the caveats in the documentation: http://pandas.pydata.org/pandas-docs/stable/indexing.html#indexing-view-versus-copy\n",
      "  \"\"\"Entry point for launching an IPython kernel.\n"
     ]
    }
   ],
   "source": [
    "en_tweets['prediction'] = predictions"
   ]
  },
  {
   "cell_type": "code",
   "execution_count": 40,
   "metadata": {},
   "outputs": [
    {
     "data": {
      "text/html": [
       "<div>\n",
       "<style scoped>\n",
       "    .dataframe tbody tr th:only-of-type {\n",
       "        vertical-align: middle;\n",
       "    }\n",
       "\n",
       "    .dataframe tbody tr th {\n",
       "        vertical-align: top;\n",
       "    }\n",
       "\n",
       "    .dataframe thead th {\n",
       "        text-align: right;\n",
       "    }\n",
       "</style>\n",
       "<table border=\"1\" class=\"dataframe\">\n",
       "  <thead>\n",
       "    <tr style=\"text-align: right;\">\n",
       "      <th></th>\n",
       "      <th>tweet</th>\n",
       "      <th>coordinates</th>\n",
       "      <th>location</th>\n",
       "      <th>language</th>\n",
       "      <th>cleaned_tweet</th>\n",
       "      <th>prediction</th>\n",
       "    </tr>\n",
       "  </thead>\n",
       "  <tbody>\n",
       "    <tr>\n",
       "      <th>0</th>\n",
       "      <td>Canada’s @PaulMGrod, President of @UWCongress,...</td>\n",
       "      <td>NaN</td>\n",
       "      <td>Ukraine</td>\n",
       "      <td>en</td>\n",
       "      <td>canada president of joins metropolitan in ista...</td>\n",
       "      <td>1</td>\n",
       "    </tr>\n",
       "    <tr>\n",
       "      <th>1</th>\n",
       "      <td>RT @expatua: Epifaniy: Russian Orthodox Church...</td>\n",
       "      <td>NaN</td>\n",
       "      <td>Kyiv, Ukraine</td>\n",
       "      <td>en</td>\n",
       "      <td>rt epifaniy russian orthodox church to continu...</td>\n",
       "      <td>1</td>\n",
       "    </tr>\n",
       "    <tr>\n",
       "      <th>2</th>\n",
       "      <td>RT @Reuters: Ecumenical Patriarch signs decree...</td>\n",
       "      <td>NaN</td>\n",
       "      <td>Київ</td>\n",
       "      <td>en</td>\n",
       "      <td>rt ecumenical patriarch signs decree granting ...</td>\n",
       "      <td>1</td>\n",
       "    </tr>\n",
       "    <tr>\n",
       "      <th>4</th>\n",
       "      <td>Ukraine: new Orthodox church gains independenc...</td>\n",
       "      <td>NaN</td>\n",
       "      <td>Dublin, Ireland.</td>\n",
       "      <td>en</td>\n",
       "      <td>ukraine new orthodox church gains independence...</td>\n",
       "      <td>1</td>\n",
       "    </tr>\n",
       "    <tr>\n",
       "      <th>5</th>\n",
       "      <td>RT @BBCWorld: Ukraine Orthodox Church to be gr...</td>\n",
       "      <td>NaN</td>\n",
       "      <td>Brooklyn, NY</td>\n",
       "      <td>en</td>\n",
       "      <td>rt ukraine orthodox church to be granted indep...</td>\n",
       "      <td>1</td>\n",
       "    </tr>\n",
       "  </tbody>\n",
       "</table>\n",
       "</div>"
      ],
      "text/plain": [
       "                                               tweet coordinates  \\\n",
       "0  Canada’s @PaulMGrod, President of @UWCongress,...         NaN   \n",
       "1  RT @expatua: Epifaniy: Russian Orthodox Church...         NaN   \n",
       "2  RT @Reuters: Ecumenical Patriarch signs decree...         NaN   \n",
       "4  Ukraine: new Orthodox church gains independenc...         NaN   \n",
       "5  RT @BBCWorld: Ukraine Orthodox Church to be gr...         NaN   \n",
       "\n",
       "           location language  \\\n",
       "0           Ukraine       en   \n",
       "1     Kyiv, Ukraine       en   \n",
       "2              Київ       en   \n",
       "4  Dublin, Ireland.       en   \n",
       "5      Brooklyn, NY       en   \n",
       "\n",
       "                                       cleaned_tweet  prediction  \n",
       "0  canada president of joins metropolitan in ista...           1  \n",
       "1  rt epifaniy russian orthodox church to continu...           1  \n",
       "2  rt ecumenical patriarch signs decree granting ...           1  \n",
       "4  ukraine new orthodox church gains independence...           1  \n",
       "5  rt ukraine orthodox church to be granted indep...           1  "
      ]
     },
     "execution_count": 40,
     "metadata": {},
     "output_type": "execute_result"
    }
   ],
   "source": [
    "en_tweets.head()"
   ]
  },
  {
   "cell_type": "code",
   "execution_count": 45,
   "metadata": {},
   "outputs": [
    {
     "data": {
      "text/plain": [
       "1    143\n",
       "0     21\n",
       "Name: prediction, dtype: int64"
      ]
     },
     "execution_count": 45,
     "metadata": {},
     "output_type": "execute_result"
    }
   ],
   "source": [
    "en_tweets['prediction'].value_counts()"
   ]
  },
  {
   "cell_type": "markdown",
   "metadata": {},
   "source": [
    "As 1 represents positive and 0 - negative, (and if we agree to trust the model with 0.82 accuracy score) we can see that people mostly tweet positive things about Ukraine :)"
   ]
  }
 ],
 "metadata": {
  "kernelspec": {
   "display_name": "Python 3",
   "language": "python",
   "name": "python3"
  },
  "language_info": {
   "codemirror_mode": {
    "name": "ipython",
    "version": 3
   },
   "file_extension": ".py",
   "mimetype": "text/x-python",
   "name": "python",
   "nbconvert_exporter": "python",
   "pygments_lexer": "ipython3",
   "version": "3.6.6"
  }
 },
 "nbformat": 4,
 "nbformat_minor": 2
}
